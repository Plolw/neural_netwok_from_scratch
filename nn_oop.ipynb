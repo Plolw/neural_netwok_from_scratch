{
 "cells": [
  {
   "cell_type": "code",
   "execution_count": null,
   "id": "b85f1011",
   "metadata": {},
   "outputs": [],
   "source": [
    "import numpy as np\n",
    "from sklearn.model_selection import train_test_split\n",
    "import csv\n",
    "import matplotlib.pyplot as plt\n",
    "import sys\n",
    "import tensorflow as tf\n",
    "from utils import Sigmoid, Sigmoid_derivative, ReLU, ReLU_derivative, Softmax"
   ]
  },
  {
   "cell_type": "code",
   "execution_count": null,
   "id": "f443a912",
   "metadata": {},
   "outputs": [],
   "source": [
    "class Layer:\n",
    "    def __init__(self, input_size, output_size, activation_function):\n",
    "        input_size = input_size\n",
    "        output_size = output_size\n",
    "        activation_function = activation_function\n",
    "        weights = np.empty((output_size, input_size))\n",
    "        biases = np.zeros((output_size, 1))\n",
    "        z = None\n",
    "        a = None\n",
    "\n",
    "    def initialize_params(self):\n",
    "        self.weights = np.random.randn(self.output_size, self.input_size) * np.sqrt(2. / self.input_size)\n",
    "\n",
    "    def forward(self, input):\n",
    "        self.z = input.dot(self.weights.T) + self.biases.T\n",
    "        f = self.activation_function\n",
    "        if f == \"ReLU\":\n",
    "            self.a = ReLU(self.z)\n",
    "        elif f == \"Sigmoid\":\n",
    "            self.a = Sigmoid(self.z)\n",
    "        elif f == \"Softmax\":\n",
    "            self.a = Softmax(self.z)\n",
    "        else:\n",
    "            return \"Specify activation function.\"\n",
    "        return self.a\n",
    "\n",
    "class NeuralNetwork:\n",
    "    def __init__(self):\n",
    "        self.layers = []\n",
    "\n",
    "    def forward(self, X):\n",
    "        output = X\n",
    "        for layer in self.layers:\n",
    "            output = layer.forward(output)\n"
   ]
  }
 ],
 "metadata": {
  "kernelspec": {
   "display_name": "Python 3",
   "language": "python",
   "name": "python3"
  },
  "language_info": {
   "codemirror_mode": {
    "name": "ipython",
    "version": 3
   },
   "file_extension": ".py",
   "mimetype": "text/x-python",
   "name": "python",
   "nbconvert_exporter": "python",
   "pygments_lexer": "ipython3",
   "version": "3.12.2"
  }
 },
 "nbformat": 4,
 "nbformat_minor": 5
}
